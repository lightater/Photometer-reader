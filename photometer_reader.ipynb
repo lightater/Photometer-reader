{
  "nbformat": 4,
  "nbformat_minor": 0,
  "metadata": {
    "colab": {
      "name": "photometer_reader.ipynb",
      "provenance": [],
      "collapsed_sections": []
    },
    "kernelspec": {
      "display_name": "Python 3",
      "language": "python",
      "name": "python3"
    },
    "language_info": {
      "codemirror_mode": {
        "name": "ipython",
        "version": 3
      },
      "file_extension": ".py",
      "mimetype": "text/x-python",
      "name": "python",
      "nbconvert_exporter": "python",
      "pygments_lexer": "ipython3",
      "version": "3.8.3"
    }
  },
  "cells": [
    {
      "cell_type": "markdown",
      "metadata": {
        "id": "KfYsIeHkRnSa",
        "colab_type": "text"
      },
      "source": [
        "Здесь реализовано чтение данных с фотометра и отправление команд на ардуино с мотором для вращения ручки фотометра."
      ]
    },
    {
      "cell_type": "code",
      "metadata": {
        "colab_type": "code",
        "id": "AD1jNRJcGOMu",
        "colab": {}
      },
      "source": [
        "import pandas as pd\n",
        "import numpy as np\n",
        "import serial\n",
        "import struct\n",
        "import sys\n",
        "import matplotlib.pyplot as plt\n",
        "import time"
      ],
      "execution_count": null,
      "outputs": []
    },
    {
      "cell_type": "code",
      "metadata": {
        "id": "zONstU4oRg7_",
        "colab_type": "code",
        "colab": {}
      },
      "source": [
        "def serial_ports():\n",
        "    \"\"\" Lists serial port names\n",
        "    \n",
        "        :raises EnvironmentError:\n",
        "            On unsupported or unknown platforms\n",
        "        :returns:\n",
        "            A list of the serial ports available on the system\n",
        "    \"\"\"\n",
        "    if sys.platform.startswith('win'):\n",
        "        ports = ['COM%s' % (i + 1) for i in range(256)]\n",
        "    elif sys.platform.startswith('linux') or sys.platform.startswith('cygwin'):\n",
        "        # this excludes your current terminal \"/dev/tty\"\n",
        "        ports = glob.glob('/dev/tty[A-Za-z]*')\n",
        "    elif sys.platform.startswith('darwin'):\n",
        "        ports = glob.glob('/dev/tty.*')\n",
        "    else:\n",
        "        raise EnvironmentError('Unsupported platform')\n",
        "  \n",
        "    result = []\n",
        "    for port in ports:\n",
        "        try:\n",
        "            s = serial.Serial(port)\n",
        "            s.close()\n",
        "            result.append(port)\n",
        "        except (OSError, serial.SerialException):\n",
        "            pass\n",
        "    return result"
      ],
      "execution_count": null,
      "outputs": []
    },
    {
      "cell_type": "code",
      "metadata": {
        "id": "krKdKlIXRg8P",
        "colab_type": "code",
        "colab": {},
        "outputId": "9cc4aab8-95c1-4d7f-9794-d0ac16c7d312"
      },
      "source": [
        "## Задаётся глубина измерений и шаг (в нм)\n",
        "measurementDepth = 100\n",
        "stepSize = 1\n",
        "\n",
        "serPhotometer = serial.Serial(serial_ports()[1], 19200)\n",
        "time.sleep(1)\n",
        "serMotor = serial.Serial(serial_ports()[0], 9600)\n",
        "\n",
        "numberOfTurns = 10\n",
        "\n",
        "time.sleep(2)\n",
        "wave_length_and_tau = {}\n",
        "\n",
        "waveLength = 0\n",
        "while waveLength < 500:\n",
        "    serMotor.write(b'g')\n",
        "    time.sleep(7)\n",
        "    waveLength = 0\n",
        "    tau = 0\n",
        "    while waveLength == 0 or tau == 0:\n",
        "        time.sleep(0.1)\n",
        "        serin = serPhotometer.read()\n",
        "        if serin == b'\\xaa':\n",
        "            serin = serPhotometer.read(9)\n",
        "            if len(serin) != 9:\n",
        "                continue\n",
        "            if serin[3:4] == b'\\x07':\n",
        "                waveLength = struct.unpack('f', serin[4:8])[0]\n",
        "            else:\n",
        "                tau = struct.unpack('f', serin[4:8])[0]\n",
        "            serPhotometer.flushInput()\n",
        "    print(f'waveLength = {waveLength} and tau = {tau}\\n')\n",
        "    wave_length_and_tau[waveLength] = tau\n",
        "\n",
        "serPhotometer.close()\n",
        "serMotor.close()"
      ],
      "execution_count": null,
      "outputs": [
        {
          "output_type": "stream",
          "text": [
            "waveLength = 357.8999938964844 and tau = 5.6426568031311035\n",
            "\n",
            "waveLength = 365.79998779296875 and tau = 7.655120849609375\n",
            "\n",
            "waveLength = 373.5 and tau = 9.593727111816406\n",
            "\n",
            "waveLength = 381.20001220703125 and tau = 8.014671325683594\n",
            "\n",
            "waveLength = 388.8999938964844 and tau = 14.430326461791992\n",
            "\n",
            "waveLength = 396.70001220703125 and tau = 38.54482650756836\n",
            "\n",
            "waveLength = 404.6000061035156 and tau = 64.59781646728516\n",
            "\n",
            "waveLength = 412.1000061035156 and tau = 85.13402557373047\n",
            "\n",
            "waveLength = 419.79998779296875 and tau = 111.697021484375\n",
            "\n",
            "waveLength = 427.70001220703125 and tau = 151.39234924316406\n",
            "\n",
            "waveLength = 435.70001220703125 and tau = 210.14366149902344\n",
            "\n",
            "waveLength = 443.3999938964844 and tau = 279.6549377441406\n",
            "\n",
            "waveLength = 451.0 and tau = 29.107421875\n",
            "\n",
            "waveLength = 458.6000061035156 and tau = 35.06309509277344\n",
            "\n",
            "waveLength = 466.3999938964844 and tau = 41.9489631652832\n",
            "\n",
            "waveLength = 474.20001220703125 and tau = 51.25886917114258\n",
            "\n",
            "waveLength = 482.0 and tau = 59.83157730102539\n",
            "\n",
            "waveLength = 489.70001220703125 and tau = 68.54513549804688\n",
            "\n",
            "waveLength = 497.3999938964844 and tau = 76.13663482666016\n",
            "\n",
            "waveLength = 505.3999938964844 and tau = 89.2095947265625\n",
            "\n"
          ],
          "name": "stdout"
        }
      ]
    },
    {
      "cell_type": "code",
      "metadata": {
        "id": "fzpwN1kvRg8b",
        "colab_type": "code",
        "colab": {}
      },
      "source": [
        "serPhotometer.close()\n",
        "serMotor.close()"
      ],
      "execution_count": null,
      "outputs": []
    },
    {
      "cell_type": "code",
      "metadata": {
        "id": "FfwcxTCYRg8g",
        "colab_type": "code",
        "colab": {},
        "outputId": "f6eafc5f-2803-4515-f435-d02ac0308336"
      },
      "source": [
        "wave_length_and_tau"
      ],
      "execution_count": null,
      "outputs": [
        {
          "output_type": "execute_result",
          "data": {
            "text/plain": [
              "{357.8999938964844: 5.6426568031311035,\n",
              " 365.79998779296875: 7.655120849609375,\n",
              " 373.5: 9.593727111816406,\n",
              " 381.20001220703125: 8.014671325683594,\n",
              " 388.8999938964844: 14.430326461791992,\n",
              " 396.70001220703125: 38.54482650756836,\n",
              " 404.6000061035156: 64.59781646728516,\n",
              " 412.1000061035156: 85.13402557373047,\n",
              " 419.79998779296875: 111.697021484375,\n",
              " 427.70001220703125: 151.39234924316406,\n",
              " 435.70001220703125: 210.14366149902344,\n",
              " 443.3999938964844: 279.6549377441406,\n",
              " 451.0: 29.107421875,\n",
              " 458.6000061035156: 35.06309509277344,\n",
              " 466.3999938964844: 41.9489631652832,\n",
              " 474.20001220703125: 51.25886917114258,\n",
              " 482.0: 59.83157730102539,\n",
              " 489.70001220703125: 68.54513549804688,\n",
              " 497.3999938964844: 76.13663482666016,\n",
              " 505.3999938964844: 89.2095947265625}"
            ]
          },
          "metadata": {
            "tags": []
          },
          "execution_count": 29
        }
      ]
    },
    {
      "cell_type": "code",
      "metadata": {
        "id": "47lnUAVZRg8l",
        "colab_type": "code",
        "colab": {},
        "outputId": "8046a5ac-fce9-45ea-bd81-4d742de65e9c"
      },
      "source": [
        "wave_length_and_tau.keys()"
      ],
      "execution_count": null,
      "outputs": [
        {
          "output_type": "execute_result",
          "data": {
            "text/plain": [
              "dict_keys([357.8999938964844, 365.79998779296875, 373.5, 381.20001220703125, 388.8999938964844, 396.70001220703125, 404.6000061035156, 412.1000061035156, 419.79998779296875, 427.70001220703125, 435.70001220703125, 443.3999938964844, 451.0, 458.6000061035156, 466.3999938964844, 474.20001220703125, 482.0, 489.70001220703125, 497.3999938964844, 505.3999938964844])"
            ]
          },
          "metadata": {
            "tags": []
          },
          "execution_count": 33
        }
      ]
    },
    {
      "cell_type": "code",
      "metadata": {
        "id": "5XULRKLjRg8r",
        "colab_type": "code",
        "colab": {},
        "outputId": "ebb29e76-7cf4-41d7-9e2d-e3325ffdaa1f"
      },
      "source": [
        "df = pd.DataFrame(index=wave_length_and_tau.keys(), data=wave_length_and_tau.values(), columns=['Tau'])\n",
        "df.reset_index(level=0, inplace=True)\n",
        "df.rename(columns={'index':'Lambda'}, inplace=True)\n",
        "plt.plot(df)"
      ],
      "execution_count": null,
      "outputs": [
        {
          "output_type": "execute_result",
          "data": {
            "text/plain": [
              "[<matplotlib.lines.Line2D at 0x18c2cbab490>,\n",
              " <matplotlib.lines.Line2D at 0x18c2cbab880>]"
            ]
          },
          "metadata": {
            "tags": []
          },
          "execution_count": 71
        },
        {
          "output_type": "display_data",
          "data": {
            "image/png": "[encoded data removed]",
            "text/plain": [
              "<Figure size 432x288 with 1 Axes>"
            ]
          },
          "metadata": {
            "tags": [],
            "needs_background": "light"
          }
        }
      ]
    },
    {
      "cell_type": "code",
      "metadata": {
        "id": "hAdFiSH2Rg8w",
        "colab_type": "code",
        "colab": {},
        "outputId": "340a7ae7-a371-453d-da5e-91b9cc9f918c"
      },
      "source": [
        "df"
      ],
      "execution_count": null,
      "outputs": [
        {
          "output_type": "execute_result",
          "data": {
            "text/html": [
              "<div>\n",
              "<style scoped>\n",
              "    .dataframe tbody tr th:only-of-type {\n",
              "        vertical-align: middle;\n",
              "    }\n",
              "\n",
              "    .dataframe tbody tr th {\n",
              "        vertical-align: top;\n",
              "    }\n",
              "\n",
              "    .dataframe thead th {\n",
              "        text-align: right;\n",
              "    }\n",
              "</style>\n",
              "<table border=\"1\" class=\"dataframe\">\n",
              "  <thead>\n",
              "    <tr style=\"text-align: right;\">\n",
              "      <th></th>\n",
              "      <th>Lambda</th>\n",
              "      <th>Tau</th>\n",
              "    </tr>\n",
              "  </thead>\n",
              "  <tbody>\n",
              "    <tr>\n",
              "      <th>0</th>\n",
              "      <td>357.899994</td>\n",
              "      <td>5.642657</td>\n",
              "    </tr>\n",
              "    <tr>\n",
              "      <th>1</th>\n",
              "      <td>365.799988</td>\n",
              "      <td>7.655121</td>\n",
              "    </tr>\n",
              "    <tr>\n",
              "      <th>2</th>\n",
              "      <td>373.500000</td>\n",
              "      <td>9.593727</td>\n",
              "    </tr>\n",
              "    <tr>\n",
              "      <th>3</th>\n",
              "      <td>381.200012</td>\n",
              "      <td>8.014671</td>\n",
              "    </tr>\n",
              "    <tr>\n",
              "      <th>4</th>\n",
              "      <td>388.899994</td>\n",
              "      <td>14.430326</td>\n",
              "    </tr>\n",
              "    <tr>\n",
              "      <th>5</th>\n",
              "      <td>396.700012</td>\n",
              "      <td>38.544827</td>\n",
              "    </tr>\n",
              "    <tr>\n",
              "      <th>6</th>\n",
              "      <td>404.600006</td>\n",
              "      <td>64.597816</td>\n",
              "    </tr>\n",
              "    <tr>\n",
              "      <th>7</th>\n",
              "      <td>412.100006</td>\n",
              "      <td>85.134026</td>\n",
              "    </tr>\n",
              "    <tr>\n",
              "      <th>8</th>\n",
              "      <td>419.799988</td>\n",
              "      <td>111.697021</td>\n",
              "    </tr>\n",
              "    <tr>\n",
              "      <th>9</th>\n",
              "      <td>427.700012</td>\n",
              "      <td>151.392349</td>\n",
              "    </tr>\n",
              "    <tr>\n",
              "      <th>10</th>\n",
              "      <td>435.700012</td>\n",
              "      <td>210.143661</td>\n",
              "    </tr>\n",
              "    <tr>\n",
              "      <th>11</th>\n",
              "      <td>443.399994</td>\n",
              "      <td>279.654938</td>\n",
              "    </tr>\n",
              "    <tr>\n",
              "      <th>12</th>\n",
              "      <td>451.000000</td>\n",
              "      <td>29.107422</td>\n",
              "    </tr>\n",
              "    <tr>\n",
              "      <th>13</th>\n",
              "      <td>458.600006</td>\n",
              "      <td>35.063095</td>\n",
              "    </tr>\n",
              "    <tr>\n",
              "      <th>14</th>\n",
              "      <td>466.399994</td>\n",
              "      <td>41.948963</td>\n",
              "    </tr>\n",
              "    <tr>\n",
              "      <th>15</th>\n",
              "      <td>474.200012</td>\n",
              "      <td>51.258869</td>\n",
              "    </tr>\n",
              "    <tr>\n",
              "      <th>16</th>\n",
              "      <td>482.000000</td>\n",
              "      <td>59.831577</td>\n",
              "    </tr>\n",
              "    <tr>\n",
              "      <th>17</th>\n",
              "      <td>489.700012</td>\n",
              "      <td>68.545135</td>\n",
              "    </tr>\n",
              "    <tr>\n",
              "      <th>18</th>\n",
              "      <td>497.399994</td>\n",
              "      <td>76.136635</td>\n",
              "    </tr>\n",
              "    <tr>\n",
              "      <th>19</th>\n",
              "      <td>505.399994</td>\n",
              "      <td>89.209595</td>\n",
              "    </tr>\n",
              "  </tbody>\n",
              "</table>\n",
              "</div>"
            ],
            "text/plain": [
              "        Lambda         Tau\n",
              "0   357.899994    5.642657\n",
              "1   365.799988    7.655121\n",
              "2   373.500000    9.593727\n",
              "3   381.200012    8.014671\n",
              "4   388.899994   14.430326\n",
              "5   396.700012   38.544827\n",
              "6   404.600006   64.597816\n",
              "7   412.100006   85.134026\n",
              "8   419.799988  111.697021\n",
              "9   427.700012  151.392349\n",
              "10  435.700012  210.143661\n",
              "11  443.399994  279.654938\n",
              "12  451.000000   29.107422\n",
              "13  458.600006   35.063095\n",
              "14  466.399994   41.948963\n",
              "15  474.200012   51.258869\n",
              "16  482.000000   59.831577\n",
              "17  489.700012   68.545135\n",
              "18  497.399994   76.136635\n",
              "19  505.399994   89.209595"
            ]
          },
          "metadata": {
            "tags": []
          },
          "execution_count": 72
        }
      ]
    },
    {
      "cell_type": "code",
      "metadata": {
        "id": "Msv0qQj8Rg8z",
        "colab_type": "code",
        "colab": {}
      },
      "source": [
        "df_calibration_full = pd.read_csv('calibration.dat', sep=' ')"
      ],
      "execution_count": null,
      "outputs": []
    },
    {
      "cell_type": "code",
      "metadata": {
        "id": "NOzy0Y3iRg83",
        "colab_type": "code",
        "colab": {},
        "outputId": "a49706c6-ea20-4d7d-aee5-4272efce5e5c"
      },
      "source": [
        "df_calibration_full"
      ],
      "execution_count": null,
      "outputs": [
        {
          "output_type": "execute_result",
          "data": {
            "text/html": [
              "<div>\n",
              "<style scoped>\n",
              "    .dataframe tbody tr th:only-of-type {\n",
              "        vertical-align: middle;\n",
              "    }\n",
              "\n",
              "    .dataframe tbody tr th {\n",
              "        vertical-align: top;\n",
              "    }\n",
              "\n",
              "    .dataframe thead th {\n",
              "        text-align: right;\n",
              "    }\n",
              "</style>\n",
              "<table border=\"1\" class=\"dataframe\">\n",
              "  <thead>\n",
              "    <tr style=\"text-align: right;\">\n",
              "      <th></th>\n",
              "      <th>Lambda</th>\n",
              "      <th>Tau</th>\n",
              "      <th>Angle</th>\n",
              "    </tr>\n",
              "  </thead>\n",
              "  <tbody>\n",
              "    <tr>\n",
              "      <th>0</th>\n",
              "      <td>308.799988</td>\n",
              "      <td>2.918390</td>\n",
              "      <td>1.8</td>\n",
              "    </tr>\n",
              "    <tr>\n",
              "      <th>1</th>\n",
              "      <td>309.399994</td>\n",
              "      <td>2.901556</td>\n",
              "      <td>3.6</td>\n",
              "    </tr>\n",
              "    <tr>\n",
              "      <th>2</th>\n",
              "      <td>310.200012</td>\n",
              "      <td>2.873998</td>\n",
              "      <td>5.4</td>\n",
              "    </tr>\n",
              "    <tr>\n",
              "      <th>3</th>\n",
              "      <td>310.899994</td>\n",
              "      <td>2.839333</td>\n",
              "      <td>7.2</td>\n",
              "    </tr>\n",
              "    <tr>\n",
              "      <th>4</th>\n",
              "      <td>311.700012</td>\n",
              "      <td>2.801924</td>\n",
              "      <td>9.0</td>\n",
              "    </tr>\n",
              "    <tr>\n",
              "      <th>...</th>\n",
              "      <td>...</td>\n",
              "      <td>...</td>\n",
              "      <td>...</td>\n",
              "    </tr>\n",
              "    <tr>\n",
              "      <th>761</th>\n",
              "      <td>896.900024</td>\n",
              "      <td>541.246460</td>\n",
              "      <td>1371.6</td>\n",
              "    </tr>\n",
              "    <tr>\n",
              "      <th>762</th>\n",
              "      <td>897.599976</td>\n",
              "      <td>542.062744</td>\n",
              "      <td>1373.4</td>\n",
              "    </tr>\n",
              "    <tr>\n",
              "      <th>763</th>\n",
              "      <td>898.500000</td>\n",
              "      <td>542.904724</td>\n",
              "      <td>1375.2</td>\n",
              "    </tr>\n",
              "    <tr>\n",
              "      <th>764</th>\n",
              "      <td>899.299988</td>\n",
              "      <td>543.737244</td>\n",
              "      <td>1377.0</td>\n",
              "    </tr>\n",
              "    <tr>\n",
              "      <th>765</th>\n",
              "      <td>900.099976</td>\n",
              "      <td>544.580688</td>\n",
              "      <td>1378.8</td>\n",
              "    </tr>\n",
              "  </tbody>\n",
              "</table>\n",
              "<p>766 rows × 3 columns</p>\n",
              "</div>"
            ],
            "text/plain": [
              "         Lambda         Tau   Angle\n",
              "0    308.799988    2.918390     1.8\n",
              "1    309.399994    2.901556     3.6\n",
              "2    310.200012    2.873998     5.4\n",
              "3    310.899994    2.839333     7.2\n",
              "4    311.700012    2.801924     9.0\n",
              "..          ...         ...     ...\n",
              "761  896.900024  541.246460  1371.6\n",
              "762  897.599976  542.062744  1373.4\n",
              "763  898.500000  542.904724  1375.2\n",
              "764  899.299988  543.737244  1377.0\n",
              "765  900.099976  544.580688  1378.8\n",
              "\n",
              "[766 rows x 3 columns]"
            ]
          },
          "metadata": {
            "tags": []
          },
          "execution_count": 80
        }
      ]
    },
    {
      "cell_type": "code",
      "metadata": {
        "id": "d6sC2FqMRg86",
        "colab_type": "code",
        "colab": {}
      },
      "source": [
        "df_calibration = pd.DataFrame(df['Lambda'])"
      ],
      "execution_count": null,
      "outputs": []
    },
    {
      "cell_type": "code",
      "metadata": {
        "id": "6BOSUwPxRg8-",
        "colab_type": "code",
        "colab": {}
      },
      "source": [
        "from scipy import interpolate\n",
        "f = interpolate.interp1d(df_calibration_full['Lambda'], df_calibration_full['Tau'])\n",
        "df_calibration['Tau'] = f(df_calibration['Lambda'])"
      ],
      "execution_count": null,
      "outputs": []
    },
    {
      "cell_type": "markdown",
      "metadata": {
        "id": "e3ShwlvnR4eM",
        "colab_type": "text"
      },
      "source": [
        "Вот так выглядит итоговый график для коэффициента пропускания для квантовых точек."
      ]
    },
    {
      "cell_type": "code",
      "metadata": {
        "id": "w4UwhHQgRg9C",
        "colab_type": "code",
        "colab": {},
        "outputId": "f449229a-c94a-4d53-d0b3-7a57533fbc62"
      },
      "source": [
        "plt.plot(df['Lambda'], df.div(df_calibration))"
      ],
      "execution_count": null,
      "outputs": [
        {
          "output_type": "execute_result",
          "data": {
            "text/plain": [
              "[<matplotlib.lines.Line2D at 0x18c2ea1ff10>,\n",
              " <matplotlib.lines.Line2D at 0x18c2ea1ffd0>]"
            ]
          },
          "metadata": {
            "tags": []
          },
          "execution_count": 92
        },
        {
          "output_type": "display_data",
          "data": {
            "image/png": "[encoded data removed]",
            "text/plain": [
              "<Figure size 432x288 with 1 Axes>"
            ]
          },
          "metadata": {
            "tags": [],
            "needs_background": "light"
          }
        }
      ]
    },
    {
      "cell_type": "code",
      "metadata": {
        "id": "UX6j8HW4Rg9G",
        "colab_type": "code",
        "colab": {}
      },
      "source": [
        ""
      ],
      "execution_count": null,
      "outputs": []
    }
  ]
}